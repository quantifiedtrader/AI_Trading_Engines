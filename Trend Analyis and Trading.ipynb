{
 "cells": [
  {
   "cell_type": "markdown",
   "metadata": {},
   "source": [
    "#### Candlesticks and Trend analysis\n"
   ]
  },
  {
   "cell_type": "code",
   "execution_count": null,
   "metadata": {
    "scrolled": true
   },
   "outputs": [],
   "source": [
    "import pandas as pd\n",
    "import yfinance as yf\n",
    "import numpy as np\n",
    "import pandas_ta as ta\n",
    "import matplotlib.pyplot as plt\n",
    "\n",
    "df = yf.download(tickers=['AAPL'],start='2020-01-01',end='2023-01-01')\n",
    "print(\"The number of data points are\", len(df))\n",
    "\n",
    "#Check if any zero volumes are to be removed\n",
    "columns = df.columns \n",
    "for col in columns:\n",
    "    indexZeros = df[ df[col] == 0 ].index\n",
    "    df.drop(indexZeros , inplace=True)"
   ]
  },
  {
   "cell_type": "code",
   "execution_count": null,
   "metadata": {},
   "outputs": [],
   "source": [
    "df['MACD'],_,_= df.ta.macd()\n",
    "df['ATR'] = df.ta.atr(length=10)\n",
    "df['RSI'] = df.ta.rsi()\n",
    "df.dropna(inplace=True)\n",
    "df.reset_index(inplace=True)\n",
    "df.head(5)"
   ]
  },
  {
   "cell_type": "code",
   "execution_count": null,
   "metadata": {},
   "outputs": [],
   "source": [
    "\n",
    "# Shooting star Strategy\n",
    "alpha= 1.5\n",
    "beta= 1\n",
    "gamma= 1\n",
    "rsi_upper_limit_buy = 90\n",
    "rsi_lower_limit_buy = 50\n",
    "\n",
    "rsi_upper_limit_sell = 40\n",
    "rsi_lower_limit_sell = 10\n",
    "\n",
    "def shooting_star_strategy(dataframe):\n",
    "    dataframe.dropna()\n",
    "    \n",
    "    length = len(dataframe)\n",
    "    high = list(dataframe['High'])\n",
    "    low = list(dataframe['Low'])\n",
    "    close = list(dataframe['Close'])\n",
    "    open = list(dataframe['Open'])\n",
    "    signal = [0] * length\n",
    "    highdiff = [0] * length\n",
    "    lowdiff = [0] * length\n",
    "    bodydiff = [0] * length\n",
    "    ratio1 = [0] * length\n",
    "    ratio2 = [0] * length\n",
    "        \n",
    "    for row in range(0, length):\n",
    "        \n",
    "        highdiff[row] = high[row]-max(open[row],close[row])\n",
    "        bodydiff[row] = abs(open[row]-close[row])\n",
    "        if bodydiff[row]<0.01:\n",
    "            bodydiff[row]=0.01\n",
    "        lowdiff[row] = min(open[row],close[row])-low[row]\n",
    "        ratio1[row] = highdiff[row]/bodydiff[row]\n",
    "        ratio2[row] = lowdiff[row]/bodydiff[row]\n",
    "    \n",
    "        \n",
    "        if (ratio1[row]>alpha and lowdiff[row]<beta*highdiff[row] and bodydiff[row]>0.05 and df.RSI[row]>rsi_lower_limit_buy and df.RSI[row]<rsi_upper_limit_buy ):\n",
    "            signal[row] = 1\n",
    "        \n",
    "        elif (ratio2[row]>alpha and highdiff[row]<beta*lowdiff[row] and bodydiff[row]>0.05 and df.RSI[row]<rsi_upper_limit_sell and df.RSI[row]>rsi_lower_limit_sell):\n",
    "            signal[row]=2\n",
    "\n",
    "    return signal\n",
    "\n",
    "\n",
    "df['signal'] = shooting_star_strategy(df)\n",
    "print(\"Total number of Signals Generated using Shooting Star Strategy \", (df['signal']!=0).sum())\n",
    "print(\"Ratio of Data points to signal is \",(df['signal']!=0).sum()/len(df))\n"
   ]
  },
  {
   "cell_type": "code",
   "execution_count": null,
   "metadata": {},
   "outputs": [],
   "source": [
    "fig=plt.figure(figsize=[15,6])\n",
    "plt.plot(df['Date'],df['Close'],c='orange',lw=0.2)\n",
    "plt.scatter(x=df['Date'].loc[df['signal']==1],y=df['Close'].loc[df['signal']==1],marker=\"^\",lw=0.1,c=\"green\")\n",
    "plt.scatter(x=df['Date'].loc[df['signal']==2],y=df['Close'].loc[df['signal']==2],marker=\"v\",lw=0.1,c=\"red\")\n"
   ]
  },
  {
   "cell_type": "code",
   "execution_count": null,
   "metadata": {},
   "outputs": [],
   "source": [
    "#Creating Trends Signal to be used along side Stoooting Star Signal\n",
    "\n",
    "def trend(look_ahead_period, dataframe):\n",
    "    length = len(dataframe)\n",
    "    high = list(dataframe['High'])\n",
    "    low = list(dataframe['Low'])\n",
    "    close = list(dataframe['Close'])\n",
    "    open = list(dataframe['Open'])\n",
    "    atr = list(dataframe['ATR'])\n",
    "    category = [0] * length\n",
    "    \n",
    "\n",
    "    for line in range (0,length-look_ahead_period-1):\n",
    "        OpenLow = 0\n",
    "        OpenHigh = 0\n",
    "        \n",
    "        highdiff = high[line]-max(open[line],close[line])\n",
    "        bodydiff = abs(open[line]-close[line])\n",
    "        \n",
    "        y_delta = atr[line]*1. # highdiff*1.3 #for SL 400*1e-3\n",
    "        if y_delta<1.1:\n",
    "            y_delta=1.1\n",
    "            \n",
    "        SLTPRatio = 2. #y_delta*Ratio gives TP\n",
    "        \n",
    "        for i in range(1,look_ahead_period+1):\n",
    "            value1 = close[line]-low[line+i]\n",
    "            value2 = close[line]-high[line+i]\n",
    "            OpenLow = max(value1, OpenLow)\n",
    "            OpenHigh = min(value2,OpenHigh)\n",
    "\n",
    "            if ( (OpenLow >= (SLTPRatio*y_delta) ) and (-OpenHigh < y_delta) ):\n",
    "                category[line] = 1 #-1 downtrend\n",
    "                break\n",
    "            elif ((OpenLow < y_delta) ) and (-OpenHigh >= (SLTPRatio*y_delta)):\n",
    "                category[line] = 2 # uptrend\n",
    "                break \n",
    "            else:\n",
    "                category[line] = 0 # no clear trend\n",
    "            \n",
    "    return category\n",
    "\n",
    "# trend(barsfront to take into account, dataframe)\n",
    "df['Trend'] = trend(100, df)\n"
   ]
  },
  {
   "cell_type": "code",
   "execution_count": null,
   "metadata": {},
   "outputs": [],
   "source": [
    "df['Trend'].value_counts()"
   ]
  },
  {
   "cell_type": "code",
   "execution_count": null,
   "metadata": {},
   "outputs": [],
   "source": [
    "df.head(2)"
   ]
  },
  {
   "cell_type": "code",
   "execution_count": null,
   "metadata": {},
   "outputs": [],
   "source": [
    "fig=plt.figure(figsize=[15,6])\n",
    "plt.plot(df['Date'],df['Close'],lw=0.3)\n",
    "plt.scatter(df['Date'].loc[df['Trend']==1],df['Close'].loc[df['Trend']==1],c='r',label='Downtrend')\n",
    "plt.scatter(df['Date'].loc[df['Trend']==2],df['Close'].loc[df['Trend']==2],c='g',label='Uptrend')\n",
    "plt.ylabel('Prices')\n",
    "plt.xlabel(\"Dates\")\n",
    "plt.title('Trends Detection')"
   ]
  },
  {
   "cell_type": "code",
   "execution_count": null,
   "metadata": {},
   "outputs": [],
   "source": [
    "df.head(2)"
   ]
  },
  {
   "cell_type": "code",
   "execution_count": null,
   "metadata": {},
   "outputs": [],
   "source": [
    "df=df[['Date','Adj Close','signal','Trend']]"
   ]
  },
  {
   "cell_type": "code",
   "execution_count": null,
   "metadata": {},
   "outputs": [],
   "source": [
    "df['Ret']=df['Adj Close'].pct_change()\n",
    "df=df.dropna()"
   ]
  },
  {
   "cell_type": "code",
   "execution_count": null,
   "metadata": {},
   "outputs": [],
   "source": [
    "df['Positions'] = 0\n",
    "df['Positions'].loc[df['Trend'] ==1] = -1\n",
    "df['Positions'].loc[df['Trend'] ==2] = 1\n",
    "\n",
    "df['Strat_ret'] = df['Positions'].diff().shift(1) * df['Ret']\n",
    "df['Positions_L'] = df['Positions'].diff().shift(1)\n",
    "df.loc[df['Positions_L'] == -1, 'Positions_L'] = 0\n",
    "df['Strat_ret_L'] = df['Positions_L'] * df['Ret']\n",
    "\n",
    "df['CumRet'] = (1 + df['Strat_ret']).cumprod() - 1\n",
    "df['CumRet_L'] = (1 + df['Strat_ret_L']).cumprod() - 1\n",
    "df['bhRet'] = df['Ret'].cumsum()\n",
    "\n",
    "Final_Return_L = np.prod(1 + df[\"Strat_ret_L\"]) - 1\n",
    "Final_Return = np.prod(1 + df[\"Strat_ret\"]) - 1\n",
    "Buy_Return = np.prod(1 + df[\"Ret\"]) - 1\n",
    "\n",
    "print(\"Strat Return Long Only =\", Final_Return_L * 100, \"%\")\n",
    "print(\"Strat Return =\", Final_Return * 100, \"%\")\n",
    "print(\"Buy and Hold Return =\", Buy_Return * 100, \"%\")\n",
    "\n",
    "fig = plt.figure(figsize=(12, 6))\n",
    "ax = plt.gca()\n",
    "df.plot(x=\"Date\", y=\"bhRet\", label=f\"Buy & Hold Only {Buy_Return.round(3)*100} % Returns \", ax=ax)\n",
    "df.plot(x=\"Date\", y=\"CumRet_L\", label=f\"Taking Only Long from Strategy {Final_Return_L.round(3)*100} % Returns \", ax=ax)\n",
    "df.plot(x=\"Date\", y=\"CumRet\", label=f\"Taking Both Long Short from Strategy {Final_Return.round(3)*100} % Returns \", ax=ax)\n",
    "plt.xlabel(\"date\")\n",
    "plt.ylabel(\"Cumulative Returns\")\n",
    "plt.grid()\n",
    "plt.show()"
   ]
  },
  {
   "cell_type": "code",
   "execution_count": null,
   "metadata": {},
   "outputs": [],
   "source": []
  },
  {
   "cell_type": "code",
   "execution_count": null,
   "metadata": {},
   "outputs": [],
   "source": []
  }
 ],
 "metadata": {
  "kernelspec": {
   "display_name": "Python 3",
   "language": "python",
   "name": "python3"
  },
  "language_info": {
   "codemirror_mode": {
    "name": "ipython",
    "version": 3
   },
   "file_extension": ".py",
   "mimetype": "text/x-python",
   "name": "python",
   "nbconvert_exporter": "python",
   "pygments_lexer": "ipython3",
   "version": "3.11.2"
  }
 },
 "nbformat": 4,
 "nbformat_minor": 2
}
